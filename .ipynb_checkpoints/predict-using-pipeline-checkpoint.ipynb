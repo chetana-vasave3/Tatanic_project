{
 "cells": [
  {
   "cell_type": "code",
   "execution_count": 9,
   "metadata": {},
   "outputs": [],
   "source": [
    "import pickle\n",
    "import numpy as np"
   ]
  },
  {
   "cell_type": "code",
   "execution_count": 10,
   "metadata": {},
   "outputs": [],
   "source": [
    "pipe = pickle.load(open('pipe1.pkl','rb'))"
   ]
  },
  {
   "cell_type": "code",
   "execution_count": 11,
   "metadata": {},
   "outputs": [],
   "source": [
    "# Assume user input\n",
    "test_input2 = np.array([2, 'male', 31.0, 0, 0, 10.5, 'S'],dtype=object).reshape(1,7)"
   ]
  },
  {
   "cell_type": "code",
   "execution_count": 12,
   "metadata": {},
   "outputs": [
    {
     "name": "stderr",
     "output_type": "stream",
     "text": [
      "C:\\Users\\DELL\\anaconda3\\Lib\\site-packages\\sklearn\\base.py:439: UserWarning: X does not have valid feature names, but SimpleImputer was fitted with feature names\n",
      "  warnings.warn(\n",
      "C:\\Users\\DELL\\anaconda3\\Lib\\site-packages\\sklearn\\base.py:439: UserWarning: X does not have valid feature names, but SimpleImputer was fitted with feature names\n",
      "  warnings.warn(\n"
     ]
    },
    {
     "data": {
      "text/plain": [
       "array([0], dtype=int64)"
      ]
     },
     "execution_count": 12,
     "metadata": {},
     "output_type": "execute_result"
    }
   ],
   "source": [
    "pipe.predict(test_input2)"
   ]
  },
  {
   "cell_type": "code",
   "execution_count": 13,
   "metadata": {},
   "outputs": [],
   "source": [
    "# Assume user input\n",
    "test_input2 = np.array([1\t,\"female\"\t,38.0,\t1,\t0\t,71.2833\t,\"C\"],dtype=object).reshape(1,7)\n"
   ]
  },
  {
   "cell_type": "code",
   "execution_count": 14,
   "metadata": {},
   "outputs": [
    {
     "name": "stderr",
     "output_type": "stream",
     "text": [
      "C:\\Users\\DELL\\anaconda3\\Lib\\site-packages\\sklearn\\base.py:439: UserWarning: X does not have valid feature names, but SimpleImputer was fitted with feature names\n",
      "  warnings.warn(\n",
      "C:\\Users\\DELL\\anaconda3\\Lib\\site-packages\\sklearn\\base.py:439: UserWarning: X does not have valid feature names, but SimpleImputer was fitted with feature names\n",
      "  warnings.warn(\n"
     ]
    },
    {
     "data": {
      "text/plain": [
       "array([1], dtype=int64)"
      ]
     },
     "execution_count": 14,
     "metadata": {},
     "output_type": "execute_result"
    }
   ],
   "source": [
    "pipe.predict(test_input2)"
   ]
  },
  {
   "cell_type": "code",
   "execution_count": 12,
   "metadata": {},
   "outputs": [
    {
     "name": "stdout",
     "output_type": "stream",
     "text": [
      " * Serving Flask app '__main__'\n",
      " * Debug mode: off\n"
     ]
    },
    {
     "name": "stderr",
     "output_type": "stream",
     "text": [
      "WARNING: This is a development server. Do not use it in a production deployment. Use a production WSGI server instead.\n",
      " * Running on all addresses (0.0.0.0)\n",
      " * Running on http://127.0.0.1:8082\n",
      " * Running on http://192.168.29.122:8082\n",
      "Press CTRL+C to quit\n",
      "192.168.29.122 - - [24/May/2024 16:31:53] \"GET / HTTP/1.1\" 200 -\n",
      "192.168.29.122 - - [24/May/2024 16:32:36] \"POST / HTTP/1.1\" 405 -\n"
     ]
    },
    {
     "name": "stdout",
     "output_type": "stream",
     "text": [
      "__main__\n"
     ]
    }
   ],
   "source": [
    "from flask import Flask, render_template, request, flash\n",
    "from joblib import load\n",
    "import numpy as np\n",
    "\n",
    "model = pickle.load(open(r\"pipe1.pkl\",'rb'))\n",
    "app = Flask(__name__)\n",
    "\n",
    "@app.route('/')\n",
    "def index():\n",
    "    return render_template(r'index.html')\n",
    "\n",
    "\n",
    "    \n",
    "\n",
    "@app.route('/predict', methods=['POST'])\n",
    "\n",
    "def basic():\n",
    "    if request.method == 'POST':\n",
    "        passenger_class = request.form['passs']\n",
    "        age = request.form['age']\n",
    "        gender = request.form['gender']\n",
    "        sibling_spouse=request.form['sibsip']\n",
    "        parent_child=request.form['parch']\n",
    "        fare=request.form['fare']\n",
    "        embarked=request.form['Embarked']\n",
    "        y_pred = np.array[[passenger_class,gender, age,sibling_spouse,parent_child,fare ,embarked]].reshape(1,7)\n",
    "        preds = model.predict(y_pred)\n",
    "\n",
    "        if y_pred[0] == 1:\n",
    "            return jsonify({\"result\" : '\"No Survived\"'})\n",
    "        else:\n",
    "             return jsonify({\"result\" : 'Survived'})\n",
    "        return render_template('index.html', result=result)\n",
    "            \n",
    "\n",
    "        \n",
    "    \n",
    "\n",
    "if __name__ == '__main__':\n",
    "    app.run(host='0.0.0.0',port=8082)\n",
    "\n",
    "print(__name__)"
   ]
  },
  {
   "cell_type": "code",
   "execution_count": null,
   "metadata": {},
   "outputs": [],
   "source": []
  }
 ],
 "metadata": {
  "kernelspec": {
   "display_name": "Python 3 (ipykernel)",
   "language": "python",
   "name": "python3"
  },
  "language_info": {
   "codemirror_mode": {
    "name": "ipython",
    "version": 3
   },
   "file_extension": ".py",
   "mimetype": "text/x-python",
   "name": "python",
   "nbconvert_exporter": "python",
   "pygments_lexer": "ipython3",
   "version": "3.11.7"
  }
 },
 "nbformat": 4,
 "nbformat_minor": 4
}
